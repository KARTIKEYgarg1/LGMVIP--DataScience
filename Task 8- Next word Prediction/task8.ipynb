{
 "cells": [
  {
   "cell_type": "markdown",
   "id": "67441f5b",
   "metadata": {},
   "source": [
    "# Develop a neural network that predicts next word"
   ]
  },
  {
   "cell_type": "markdown",
   "id": "c1089993",
   "metadata": {},
   "source": [
    "## Importing Libraries"
   ]
  },
  {
   "cell_type": "code",
   "execution_count": 1,
   "id": "fb56b768",
   "metadata": {},
   "outputs": [],
   "source": [
    "import numpy as np\n",
    "import tensorflow as tf\n",
    "import matplotlib.pyplot as plt\n",
    "import pickle\n",
    "import heapq"
   ]
  },
  {
   "cell_type": "markdown",
   "id": "efff9142",
   "metadata": {},
   "source": [
    "## Loading the data"
   ]
  },
  {
   "cell_type": "code",
   "execution_count": 2,
   "id": "cc23def4",
   "metadata": {},
   "outputs": [
    {
     "name": "stdout",
     "output_type": "stream",
     "text": [
      "Length: 581888\n"
     ]
    }
   ],
   "source": [
    "text = open('1661-0.txt',encoding='utf-8').read().lower()\n",
    "print('Length:', len(text))"
   ]
  },
  {
   "cell_type": "markdown",
   "id": "b002d891",
   "metadata": {},
   "source": [
    "## Data Preprocessing"
   ]
  },
  {
   "cell_type": "code",
   "execution_count": 3,
   "id": "a284fbfd",
   "metadata": {},
   "outputs": [
    {
     "name": "stdout",
     "output_type": "stream",
     "text": [
      "unique chars: 73\n"
     ]
    }
   ],
   "source": [
    "c = sorted(list(set(text)))\n",
    "char_indices = dict((c, i) for i, c in enumerate(c))\n",
    "indices_char = dict((i, c) for i, c in enumerate(c))\n",
    " \n",
    "print(f'unique chars: {len(c)}')"
   ]
  },
  {
   "cell_type": "code",
   "execution_count": 4,
   "id": "ba657709",
   "metadata": {},
   "outputs": [
    {
     "name": "stdout",
     "output_type": "stream",
     "text": [
      "num training examples: 193950\n"
     ]
    }
   ],
   "source": [
    "#chunk 40 characters with 3 sequences\n",
    "seq_len = 40\n",
    "step = 3\n",
    "sentences = []\n",
    "next_chars = []\n",
    "for i in range(0, len(text) - seq_len, step):\n",
    "    sentences.append(text[i: i + seq_len ])\n",
    "    next_chars.append(text[i + seq_len])\n",
    "print(f'num training examples: {len(sentences)}')"
   ]
  },
  {
   "cell_type": "code",
   "execution_count": 5,
   "id": "78407c88",
   "metadata": {},
   "outputs": [
    {
     "name": "stderr",
     "output_type": "stream",
     "text": [
      "C:\\Users\\DELL\\AppData\\Local\\Temp\\ipykernel_11100\\3870774836.py:3: DeprecationWarning: `np.bool` is a deprecated alias for the builtin `bool`. To silence this warning, use `bool` by itself. Doing this will not modify any behavior and is safe. If you specifically wanted the numpy scalar type, use `np.bool_` here.\n",
      "Deprecated in NumPy 1.20; for more details and guidance: https://numpy.org/devdocs/release/1.20.0-notes.html#deprecations\n",
      "  X = np.zeros((len(sentences), seq_len, len(c)), dtype=np.bool)\n",
      "C:\\Users\\DELL\\AppData\\Local\\Temp\\ipykernel_11100\\3870774836.py:4: DeprecationWarning: `np.bool` is a deprecated alias for the builtin `bool`. To silence this warning, use `bool` by itself. Doing this will not modify any behavior and is safe. If you specifically wanted the numpy scalar type, use `np.bool_` here.\n",
      "Deprecated in NumPy 1.20; for more details and guidance: https://numpy.org/devdocs/release/1.20.0-notes.html#deprecations\n",
      "  y = np.zeros((len(sentences), len(c)), dtype=np.bool)\n"
     ]
    },
    {
     "data": {
      "text/plain": [
       "'e'"
      ]
     },
     "execution_count": 5,
     "metadata": {},
     "output_type": "execute_result"
    }
   ],
   "source": [
    "# generating our features and labels\n",
    "#one hot encoding\n",
    "X = np.zeros((len(sentences), seq_len, len(c)), dtype=np.bool)\n",
    "y = np.zeros((len(sentences), len(c)), dtype=np.bool)\n",
    "for i, sentence in enumerate(sentences):\n",
    "    for t, char in enumerate(sentence):\n",
    "        X[i, t, char_indices[char]] = 1\n",
    "    y[i, char_indices[next_chars[i]]] = 1\n",
    "\n",
    "sentences[124]\n",
    "next_chars[100]"
   ]
  },
  {
   "cell_type": "code",
   "execution_count": 10,
   "id": "b6b7a957",
   "metadata": {},
   "outputs": [
    {
     "data": {
      "text/plain": [
       "(193950, 40, 73)"
      ]
     },
     "execution_count": 10,
     "metadata": {},
     "output_type": "execute_result"
    }
   ],
   "source": [
    "X.shape"
   ]
  },
  {
   "cell_type": "code",
   "execution_count": 11,
   "id": "f67d4694",
   "metadata": {},
   "outputs": [
    {
     "data": {
      "text/plain": [
       "(193950, 73)"
      ]
     },
     "execution_count": 11,
     "metadata": {},
     "output_type": "execute_result"
    }
   ],
   "source": [
    "y.shape"
   ]
  },
  {
   "cell_type": "markdown",
   "id": "caebb20c",
   "metadata": {},
   "source": [
    "## Creating the model"
   ]
  },
  {
   "cell_type": "code",
   "execution_count": 6,
   "id": "fb1d8aa2",
   "metadata": {},
   "outputs": [],
   "source": [
    "from tensorflow.keras.models import Sequential, load_model\n",
    "from tensorflow.keras.layers import Dense, Activation\n",
    "from tensorflow.keras.layers import LSTM, Dropout\n",
    "from tensorflow.keras.layers import TimeDistributed\n",
    "from tensorflow.keras.layers import Dense, Activation, Dropout, RepeatVector\n",
    "from tensorflow.keras.optimizers import  RMSprop"
   ]
  },
  {
   "cell_type": "code",
   "execution_count": 11,
   "id": "c4c2b224",
   "metadata": {},
   "outputs": [],
   "source": [
    "# Creating the model\n",
    "model = Sequential()\n",
    "model.add(LSTM(500, input_shape=(seq_len, len(c))))\n",
    "model.add(Dense(len(c)))\n",
    "model.add(Activation('softmax'))"
   ]
  },
  {
   "cell_type": "markdown",
   "id": "57dd4049",
   "metadata": {},
   "source": [
    "## Model summary"
   ]
  },
  {
   "cell_type": "code",
   "execution_count": 12,
   "id": "ae3f9dac",
   "metadata": {},
   "outputs": [
    {
     "name": "stdout",
     "output_type": "stream",
     "text": [
      "Model: \"sequential\"\n",
      "_________________________________________________________________\n",
      " Layer (type)                Output Shape              Param #   \n",
      "=================================================================\n",
      " lstm (LSTM)                 (None, 500)               1148000   \n",
      "                                                                 \n",
      " dense (Dense)               (None, 73)                36573     \n",
      "                                                                 \n",
      " activation (Activation)     (None, 73)                0         \n",
      "                                                                 \n",
      "=================================================================\n",
      "Total params: 1,184,573\n",
      "Trainable params: 1,184,573\n",
      "Non-trainable params: 0\n",
      "_________________________________________________________________\n"
     ]
    }
   ],
   "source": [
    "model.summary()"
   ]
  },
  {
   "cell_type": "markdown",
   "id": "64ddc593",
   "metadata": {},
   "source": [
    "## Training our model"
   ]
  },
  {
   "cell_type": "code",
   "execution_count": 13,
   "id": "82fa3c33",
   "metadata": {},
   "outputs": [
    {
     "name": "stdout",
     "output_type": "stream",
     "text": [
      "Epoch 1/10\n",
      "1501/1501 [==============================] - 1279s 850ms/step - loss: 2.1635 - accuracy: 0.3736 - val_loss: 2.3975 - val_accuracy: 0.3345\n",
      "Epoch 2/10\n",
      "1501/1501 [==============================] - 1301s 867ms/step - loss: 1.6977 - accuracy: 0.4902 - val_loss: 2.0821 - val_accuracy: 0.4082\n",
      "Epoch 3/10\n",
      "1501/1501 [==============================] - 1229s 819ms/step - loss: 1.5422 - accuracy: 0.5355 - val_loss: 1.9451 - val_accuracy: 0.4536\n",
      "Epoch 4/10\n",
      "1501/1501 [==============================] - 1205s 803ms/step - loss: 1.4511 - accuracy: 0.5588 - val_loss: 1.8632 - val_accuracy: 0.4933\n",
      "Epoch 5/10\n",
      "1501/1501 [==============================] - 1158s 772ms/step - loss: 1.3853 - accuracy: 0.5765 - val_loss: 1.8904 - val_accuracy: 0.4902\n",
      "Epoch 6/10\n",
      "1501/1501 [==============================] - 1159s 772ms/step - loss: 1.3368 - accuracy: 0.5896 - val_loss: 1.8647 - val_accuracy: 0.4861\n",
      "Epoch 7/10\n",
      "1501/1501 [==============================] - 1159s 772ms/step - loss: 1.2913 - accuracy: 0.6002 - val_loss: 1.9121 - val_accuracy: 0.4959\n",
      "Epoch 8/10\n",
      "1501/1501 [==============================] - 1189s 792ms/step - loss: 1.2476 - accuracy: 0.6105 - val_loss: 1.8922 - val_accuracy: 0.4959\n",
      "Epoch 9/10\n",
      "1501/1501 [==============================] - 1178s 785ms/step - loss: 1.2132 - accuracy: 0.6190 - val_loss: 1.9474 - val_accuracy: 0.4866\n",
      "Epoch 10/10\n",
      "1501/1501 [==============================] - 1211s 807ms/step - loss: 1.1816 - accuracy: 0.6264 - val_loss: 1.9729 - val_accuracy: 0.4954\n"
     ]
    }
   ],
   "source": [
    "# Training our model\n",
    "optimizer = RMSprop(learning_rate=0.01)\n",
    "model.compile(loss='categorical_crossentropy', optimizer=optimizer, metrics=['accuracy'])\n",
    "history = model.fit(X, y,\n",
    "                    validation_split=0.01, \n",
    "                    batch_size=128,\n",
    "                    epochs=10, \n",
    "                    shuffle=True).history"
   ]
  },
  {
   "cell_type": "markdown",
   "id": "c6755c60",
   "metadata": {},
   "source": [
    "## saving our model"
   ]
  },
  {
   "cell_type": "code",
   "execution_count": 14,
   "id": "97acce47",
   "metadata": {},
   "outputs": [
    {
     "name": "stdout",
     "output_type": "stream",
     "text": [
      "Keras weights file (<HDF5 file \"variables.h5\" (mode r+)>) saving:\n",
      "...layers\\activation\n",
      "......vars\n",
      "...layers\\dense\n",
      "......vars\n",
      ".........0\n",
      ".........1\n",
      "...layers\\lstm\n",
      "......vars\n",
      "...layers\\lstm\\cell\n",
      "......vars\n",
      ".........0\n",
      ".........1\n",
      ".........2\n",
      "...metrics\\mean\n",
      "......vars\n",
      ".........0\n",
      ".........1\n",
      "...metrics\\mean_metric_wrapper\n",
      "......vars\n",
      ".........0\n",
      ".........1\n",
      "...optimizer\n",
      "......vars\n",
      ".........0\n",
      ".........1\n",
      ".........2\n",
      ".........3\n",
      ".........4\n",
      ".........5\n",
      "...vars\n",
      "Keras model archive saving:\n",
      "File Name                                             Modified             Size\n",
      "config.json                                    2023-01-18 21:11:55         2381\n",
      "metadata.json                                  2023-01-18 21:11:55           64\n",
      "variables.h5                                   2023-01-18 21:11:55      9498840\n"
     ]
    }
   ],
   "source": [
    "pickle.dump(model,open('model.pkl','wb'))\n",
    "pickle.dump(history,open('history.pkl','wb'))"
   ]
  },
  {
   "cell_type": "markdown",
   "id": "23af2fb8",
   "metadata": {},
   "source": [
    "## loading our model"
   ]
  },
  {
   "cell_type": "code",
   "execution_count": 7,
   "id": "87f7c454",
   "metadata": {},
   "outputs": [
    {
     "name": "stdout",
     "output_type": "stream",
     "text": [
      "Keras model archive loading:\n",
      "File Name                                             Modified             Size\n",
      "config.json                                    2023-01-18 21:11:54         2381\n",
      "metadata.json                                  2023-01-18 21:11:54           64\n",
      "variables.h5                                   2023-01-18 21:11:54      9498840\n",
      "Keras weights file (<HDF5 file \"variables.h5\" (mode r)>) loading:\n",
      "...layers\\activation\n",
      "......vars\n",
      "...layers\\dense\n",
      "......vars\n",
      ".........0\n",
      ".........1\n",
      "...layers\\lstm\n",
      "......vars\n",
      "...layers\\lstm\\cell\n",
      "......vars\n",
      ".........0\n",
      ".........1\n",
      ".........2\n",
      "...metrics\\mean\n",
      "......vars\n",
      ".........0\n",
      ".........1\n",
      "...metrics\\mean_metric_wrapper\n",
      "......vars\n",
      ".........0\n",
      ".........1\n",
      "...optimizer\n",
      "......vars\n",
      ".........0\n",
      ".........1\n",
      ".........2\n",
      ".........3\n",
      ".........4\n",
      ".........5\n",
      "...vars\n"
     ]
    }
   ],
   "source": [
    "model = pickle.load(open('model.pkl', 'rb'))\n",
    "history = pickle.load(open('history.pkl', 'rb'))"
   ]
  },
  {
   "cell_type": "markdown",
   "id": "b85b4fc6",
   "metadata": {},
   "source": [
    "## Model Evaluation"
   ]
  },
  {
   "cell_type": "code",
   "execution_count": null,
   "id": "c74e1a6f",
   "metadata": {},
   "outputs": [
    {
     "name": "stdout",
     "output_type": "stream",
     "text": [
      "\r",
      "   1/6061 [..............................] - ETA: 2:46:19 - loss: 1.4539 - accuracy: 0.4688"
     ]
    }
   ],
   "source": [
    "#Model Evaluation\n",
    "loss_and_acc=model.evaluate(X,y)\n",
    "print(\"Test Loss\", loss_and_acc[0])\n",
    "print(\"Test Accuracy\", loss_and_acc[1])"
   ]
  },
  {
   "cell_type": "markdown",
   "id": "cccd44ca",
   "metadata": {},
   "source": [
    "## Plotting training and validation plots"
   ]
  },
  {
   "cell_type": "code",
   "execution_count": 8,
   "id": "5a279f73",
   "metadata": {},
   "outputs": [
    {
     "data": {
      "image/png": "[encoded data removed]",
      "text/plain": [
       "<Figure size 432x288 with 1 Axes>"
      ]
     },
     "metadata": {
      "needs_background": "light"
     },
     "output_type": "display_data"
    }
   ],
   "source": [
    "acc = history['accuracy']\n",
    "val_acc = history['val_accuracy']\n",
    "loss = history['loss']\n",
    "val_loss = history['val_loss']\n",
    "epochs = range(len(acc))\n",
    "plt.plot(epochs, acc, 'y', label='Training accuracy')\n",
    "plt.plot(epochs, val_acc, 'g', label='Validation accuracy')\n",
    "plt.show()"
   ]
  },
  {
   "cell_type": "code",
   "execution_count": 10,
   "id": "6a4bbeaf",
   "metadata": {},
   "outputs": [
    {
     "data": {
      "image/png": "[encoded data removed]",
      "text/plain": [
       "<Figure size 432x288 with 1 Axes>"
      ]
     },
     "metadata": {
      "needs_background": "light"
     },
     "output_type": "display_data"
    }
   ],
   "source": [
    "plt.plot(epochs, loss, 'y', label='Training loss')\n",
    "plt.plot(epochs, val_loss, 'g', label='Validation loss')\n",
    "plt.show()"
   ]
  },
  {
   "cell_type": "code",
   "execution_count": 11,
   "id": "5c9ada77",
   "metadata": {},
   "outputs": [],
   "source": [
    "def prepare_input(text):\n",
    "    x = np.zeros((1, seq_len, len(c)))\n",
    "    for t, char in enumerate(text):\n",
    "        x[0, t, char_indices[char]] = 1.\n",
    "        \n",
    "    return x"
   ]
  },
  {
   "cell_type": "markdown",
   "id": "18a3e25f",
   "metadata": {},
   "source": [
    "## Functions to get next probable characters"
   ]
  },
  {
   "cell_type": "code",
   "execution_count": 12,
   "id": "67ff3f99",
   "metadata": {},
   "outputs": [],
   "source": [
    "#functions to get next probable characters\n",
    "def sample(preds, top_n=3):\n",
    "    preds = np.asarray(preds).astype('float64')\n",
    "    preds = np.log(preds)\n",
    "    exp_preds = np.exp(preds)\n",
    "    preds = exp_preds / np.sum(exp_preds)\n",
    "    \n",
    "    return heapq.nlargest(top_n, range(len(preds)), preds.take)"
   ]
  },
  {
   "cell_type": "code",
   "execution_count": 13,
   "id": "9466825a",
   "metadata": {},
   "outputs": [],
   "source": [
    "def predict_completion(text):\n",
    "    original_text = text\n",
    "    generated = text\n",
    "    completion = ''\n",
    "    while True:\n",
    "        x = prepare_input(text)\n",
    "        preds = model.predict(x, verbose=0)[0]\n",
    "        next_index = sample(preds, top_n=1)[0]\n",
    "        next_char = indices_char[next_index]\n",
    "        text = text[1:] + next_char\n",
    "        completion += next_char\n",
    "        \n",
    "        if len(original_text + completion) + 2 > len(original_text) and next_char == ' ':\n",
    "            return completion"
   ]
  },
  {
   "cell_type": "code",
   "execution_count": 14,
   "id": "758fe923",
   "metadata": {},
   "outputs": [],
   "source": [
    "def predict_completions(text, n=3):\n",
    "    x = prepare_input(text)\n",
    "    preds = model.predict(x, verbose=0)[0]\n",
    "    next_indices = sample(preds, n)\n",
    "    return [indices_char[idx] + predict_completion(text[1:] + indices_char[idx]) for idx in next_indices]"
   ]
  },
  {
   "cell_type": "markdown",
   "id": "4b34c714",
   "metadata": {},
   "source": [
    "## Prediction"
   ]
  },
  {
   "cell_type": "code",
   "execution_count": 15,
   "id": "2aba2729",
   "metadata": {},
   "outputs": [],
   "source": [
    "#Prediction\n",
    "quotes = [   \n",
    "    \"It is not a lack of  love, but a  lack of friendship that makes unhappy marriages.\",\n",
    "    \"Recurrent neural network (RNN)is a type of artificial neural network which uses sequential data or time series data.\",\n",
    "    \"Machine learning is the science of getting computers to act without being explicitly programmed.\",\n",
    "    \"Deep learning is subset of machine learning,which is essentially a neural network with three or more layers.\",\n",
    "    \"The goal of AI is to  make a  compter like humans to solve complex problems.\",\n",
    "    \"Statistics are defined as numerical data, and is the field of math that deals with the collection, tabulation and interpretation of numerical data.\"\n",
    "    ]"
   ]
  },
  {
   "cell_type": "code",
   "execution_count": 16,
   "id": "1badd4d4",
   "metadata": {},
   "outputs": [
    {
     "name": "stdout",
     "output_type": "stream",
     "text": [
      "it is not a lack of  love, but a  lack o\n",
      "['f ', 'n ', 'ut ', 'pen ', 'ther ']\n",
      "\n",
      "recurrent neural network (rnn)is a type \n",
      "['train ', 'of ', 'reason. ', 'and ', 'day. ']\n",
      "\n",
      "machine learning is the science of getti\n",
      "['ng ', 'on. ', 'me\\nand ', 'tal ', 'c ']\n",
      "\n",
      "deep learning is subset of machine learn\n",
      "['ess ', ' that ', 't ', '\\nand ', '. ']\n",
      "\n",
      "the goal of ai is to  make a  compter li\n",
      "['ke ', 'ttle ', 'ves ', 'ps ', 'ght ']\n",
      "\n",
      "statistics are defined as numerical data\n",
      "['ges ', 'n, ', 's ', 'on ', ' in ']\n",
      "\n"
     ]
    }
   ],
   "source": [
    "for q in quotes:\n",
    "    seq = q[:40].lower()\n",
    "    print(seq)\n",
    "    print(predict_completions(seq, 5))\n",
    "    print()"
   ]
  }
 ],
 "metadata": {
  "kernelspec": {
   "display_name": "Python 3 (ipykernel)",
   "language": "python",
   "name": "python3"
  },
  "language_info": {
   "codemirror_mode": {
    "name": "ipython",
    "version": 3
   },
   "file_extension": ".py",
   "mimetype": "text/x-python",
   "name": "python",
   "nbconvert_exporter": "python",
   "pygments_lexer": "ipython3",
   "version": "3.10.5"
  }
 },
 "nbformat": 4,
 "nbformat_minor": 5
}
